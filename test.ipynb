{
 "cells": [
  {
   "cell_type": "code",
   "execution_count": 1,
   "id": "e52db007",
   "metadata": {},
   "outputs": [],
   "source": [
    "import numpy as np\n",
    "from baseline.templates import loadEmotionTemplate, loadRSNTemplate10\n",
    "from metrics.utils import padding_1d\n",
    "from metrics.metrics import SpatialSimilarity, IoU"
   ]
  },
  {
   "cell_type": "code",
   "execution_count": 2,
   "id": "d88fc100",
   "metadata": {},
   "outputs": [],
   "source": [
    "emotion_template = loadEmotionTemplate(threshold=True)\n",
    "rsn_template = loadRSNTemplate10(threshold=True)"
   ]
  },
  {
   "cell_type": "code",
   "execution_count": 3,
   "id": "4e8af5f6",
   "metadata": {},
   "outputs": [],
   "source": [
    "sm = SpatialSimilarity(mask_img=\"/home/public/ExperimentData/HCP900/HCP_data/mask_152_4mm.nii.gz\")"
   ]
  },
  {
   "cell_type": "code",
   "execution_count": 4,
   "id": "ccf9f22a",
   "metadata": {},
   "outputs": [
    {
     "data": {
      "text/plain": [
       "0.474468085106383"
      ]
     },
     "execution_count": 4,
     "metadata": {},
     "output_type": "execute_result"
    }
   ],
   "source": [
    "IoU(emotion_template[0:1, :], emotion_template[1:2, :])"
   ]
  },
  {
   "cell_type": "code",
   "execution_count": 5,
   "id": "4ff22f11",
   "metadata": {},
   "outputs": [
    {
     "data": {
      "text/plain": [
       "0.5040058266569556"
      ]
     },
     "execution_count": 5,
     "metadata": {},
     "output_type": "execute_result"
    }
   ],
   "source": [
    "sm.local_IoU_1d(emotion_template[0:1, :], emotion_template[1:2, :])"
   ]
  },
  {
   "cell_type": "code",
   "execution_count": 6,
   "id": "e2e018be",
   "metadata": {},
   "outputs": [
    {
     "data": {
      "text/plain": [
       "0.6078790655061842"
      ]
     },
     "execution_count": 6,
     "metadata": {},
     "output_type": "execute_result"
    }
   ],
   "source": [
    "sm.local_IoU_3d(emotion_template[0:1, :], emotion_template[1:2, :])"
   ]
  },
  {
   "cell_type": "code",
   "execution_count": null,
   "id": "b40228fa",
   "metadata": {},
   "outputs": [],
   "source": []
  },
  {
   "cell_type": "code",
   "execution_count": null,
   "id": "f031244e",
   "metadata": {},
   "outputs": [],
   "source": []
  }
 ],
 "metadata": {
  "kernelspec": {
   "display_name": "Python 3 (ipykernel)",
   "language": "python",
   "name": "python3"
  },
  "language_info": {
   "codemirror_mode": {
    "name": "ipython",
    "version": 3
   },
   "file_extension": ".py",
   "mimetype": "text/x-python",
   "name": "python",
   "nbconvert_exporter": "python",
   "pygments_lexer": "ipython3",
   "version": "3.9.7"
  }
 },
 "nbformat": 4,
 "nbformat_minor": 5
}
